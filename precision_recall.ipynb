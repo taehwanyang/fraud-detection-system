{
 "cells": [
  {
   "cell_type": "markdown",
   "metadata": {},
   "source": [
    "# card fraud data\n",
    "### 특징 : imbalanced data \n",
    "##### classes : 0 --> 정상, 1 --> 비정상\n",
    "https://www.kaggle.com/datasets/mlg-ulb/creditcardfraud"
   ]
  },
  {
   "cell_type": "code",
   "execution_count": 1,
   "metadata": {},
   "outputs": [],
   "source": [
    "# 데이터 시각화를 위한 라이브러리\n",
    "import matplotlib.pyplot as plt\n",
    "%matplotlib inline"
   ]
  },
  {
   "cell_type": "code",
   "execution_count": 2,
   "metadata": {},
   "outputs": [],
   "source": [
    "# 데이터 분석 라이브러리 판다스\n",
    "import pandas as pd"
   ]
  },
  {
   "cell_type": "code",
   "execution_count": 3,
   "metadata": {},
   "outputs": [],
   "source": [
    "raw_df = pd.read_csv('creditcard.csv')"
   ]
  },
  {
   "cell_type": "code",
   "execution_count": 4,
   "metadata": {},
   "outputs": [
    {
     "name": "stdout",
     "output_type": "stream",
     "text": [
      "<class 'pandas.core.frame.DataFrame'>\n",
      "RangeIndex: 284807 entries, 0 to 284806\n",
      "Data columns (total 31 columns):\n",
      " #   Column  Non-Null Count   Dtype  \n",
      "---  ------  --------------   -----  \n",
      " 0   Time    284807 non-null  float64\n",
      " 1   V1      284807 non-null  float64\n",
      " 2   V2      284807 non-null  float64\n",
      " 3   V3      284807 non-null  float64\n",
      " 4   V4      284807 non-null  float64\n",
      " 5   V5      284807 non-null  float64\n",
      " 6   V6      284807 non-null  float64\n",
      " 7   V7      284807 non-null  float64\n",
      " 8   V8      284807 non-null  float64\n",
      " 9   V9      284807 non-null  float64\n",
      " 10  V10     284807 non-null  float64\n",
      " 11  V11     284807 non-null  float64\n",
      " 12  V12     284807 non-null  float64\n",
      " 13  V13     284807 non-null  float64\n",
      " 14  V14     284807 non-null  float64\n",
      " 15  V15     284807 non-null  float64\n",
      " 16  V16     284807 non-null  float64\n",
      " 17  V17     284807 non-null  float64\n",
      " 18  V18     284807 non-null  float64\n",
      " 19  V19     284807 non-null  float64\n",
      " 20  V20     284807 non-null  float64\n",
      " 21  V21     284807 non-null  float64\n",
      " 22  V22     284807 non-null  float64\n",
      " 23  V23     284807 non-null  float64\n",
      " 24  V24     284807 non-null  float64\n",
      " 25  V25     284807 non-null  float64\n",
      " 26  V26     284807 non-null  float64\n",
      " 27  V27     284807 non-null  float64\n",
      " 28  V28     284807 non-null  float64\n",
      " 29  Amount  284807 non-null  float64\n",
      " 30  Class   284807 non-null  int64  \n",
      "dtypes: float64(30), int64(1)\n",
      "memory usage: 67.4 MB\n"
     ]
    }
   ],
   "source": [
    "# 데이터 살펴보기 \n",
    "# Missing Data가 있는지?\n",
    "# 데이터 타입 확인 : 문자 데이터가 있다면 (대부분의 경우) categorical로 변경\n",
    "\n",
    "raw_df.info()\n",
    "\n",
    "# 약 28만 5천개의 데이터\n",
    "# Missing Data는 없다.\n",
    "# 모든 데이터는 수치형 데이터"
   ]
  },
  {
   "cell_type": "code",
   "execution_count": 5,
   "metadata": {},
   "outputs": [
    {
     "data": {
      "text/html": [
       "<div>\n",
       "<style scoped>\n",
       "    .dataframe tbody tr th:only-of-type {\n",
       "        vertical-align: middle;\n",
       "    }\n",
       "\n",
       "    .dataframe tbody tr th {\n",
       "        vertical-align: top;\n",
       "    }\n",
       "\n",
       "    .dataframe thead th {\n",
       "        text-align: right;\n",
       "    }\n",
       "</style>\n",
       "<table border=\"1\" class=\"dataframe\">\n",
       "  <thead>\n",
       "    <tr style=\"text-align: right;\">\n",
       "      <th></th>\n",
       "      <th>Time</th>\n",
       "      <th>V1</th>\n",
       "      <th>V2</th>\n",
       "      <th>V3</th>\n",
       "      <th>V4</th>\n",
       "      <th>V5</th>\n",
       "      <th>V6</th>\n",
       "      <th>V7</th>\n",
       "      <th>V8</th>\n",
       "      <th>V9</th>\n",
       "      <th>...</th>\n",
       "      <th>V21</th>\n",
       "      <th>V22</th>\n",
       "      <th>V23</th>\n",
       "      <th>V24</th>\n",
       "      <th>V25</th>\n",
       "      <th>V26</th>\n",
       "      <th>V27</th>\n",
       "      <th>V28</th>\n",
       "      <th>Amount</th>\n",
       "      <th>Class</th>\n",
       "    </tr>\n",
       "  </thead>\n",
       "  <tbody>\n",
       "    <tr>\n",
       "      <th>0</th>\n",
       "      <td>0.0</td>\n",
       "      <td>-1.359807</td>\n",
       "      <td>-0.072781</td>\n",
       "      <td>2.536347</td>\n",
       "      <td>1.378155</td>\n",
       "      <td>-0.338321</td>\n",
       "      <td>0.462388</td>\n",
       "      <td>0.239599</td>\n",
       "      <td>0.098698</td>\n",
       "      <td>0.363787</td>\n",
       "      <td>...</td>\n",
       "      <td>-0.018307</td>\n",
       "      <td>0.277838</td>\n",
       "      <td>-0.110474</td>\n",
       "      <td>0.066928</td>\n",
       "      <td>0.128539</td>\n",
       "      <td>-0.189115</td>\n",
       "      <td>0.133558</td>\n",
       "      <td>-0.021053</td>\n",
       "      <td>149.62</td>\n",
       "      <td>0</td>\n",
       "    </tr>\n",
       "    <tr>\n",
       "      <th>1</th>\n",
       "      <td>0.0</td>\n",
       "      <td>1.191857</td>\n",
       "      <td>0.266151</td>\n",
       "      <td>0.166480</td>\n",
       "      <td>0.448154</td>\n",
       "      <td>0.060018</td>\n",
       "      <td>-0.082361</td>\n",
       "      <td>-0.078803</td>\n",
       "      <td>0.085102</td>\n",
       "      <td>-0.255425</td>\n",
       "      <td>...</td>\n",
       "      <td>-0.225775</td>\n",
       "      <td>-0.638672</td>\n",
       "      <td>0.101288</td>\n",
       "      <td>-0.339846</td>\n",
       "      <td>0.167170</td>\n",
       "      <td>0.125895</td>\n",
       "      <td>-0.008983</td>\n",
       "      <td>0.014724</td>\n",
       "      <td>2.69</td>\n",
       "      <td>0</td>\n",
       "    </tr>\n",
       "    <tr>\n",
       "      <th>2</th>\n",
       "      <td>1.0</td>\n",
       "      <td>-1.358354</td>\n",
       "      <td>-1.340163</td>\n",
       "      <td>1.773209</td>\n",
       "      <td>0.379780</td>\n",
       "      <td>-0.503198</td>\n",
       "      <td>1.800499</td>\n",
       "      <td>0.791461</td>\n",
       "      <td>0.247676</td>\n",
       "      <td>-1.514654</td>\n",
       "      <td>...</td>\n",
       "      <td>0.247998</td>\n",
       "      <td>0.771679</td>\n",
       "      <td>0.909412</td>\n",
       "      <td>-0.689281</td>\n",
       "      <td>-0.327642</td>\n",
       "      <td>-0.139097</td>\n",
       "      <td>-0.055353</td>\n",
       "      <td>-0.059752</td>\n",
       "      <td>378.66</td>\n",
       "      <td>0</td>\n",
       "    </tr>\n",
       "  </tbody>\n",
       "</table>\n",
       "<p>3 rows × 31 columns</p>\n",
       "</div>"
      ],
      "text/plain": [
       "   Time        V1        V2        V3        V4        V5        V6        V7  \\\n",
       "0   0.0 -1.359807 -0.072781  2.536347  1.378155 -0.338321  0.462388  0.239599   \n",
       "1   0.0  1.191857  0.266151  0.166480  0.448154  0.060018 -0.082361 -0.078803   \n",
       "2   1.0 -1.358354 -1.340163  1.773209  0.379780 -0.503198  1.800499  0.791461   \n",
       "\n",
       "         V8        V9  ...       V21       V22       V23       V24       V25  \\\n",
       "0  0.098698  0.363787  ... -0.018307  0.277838 -0.110474  0.066928  0.128539   \n",
       "1  0.085102 -0.255425  ... -0.225775 -0.638672  0.101288 -0.339846  0.167170   \n",
       "2  0.247676 -1.514654  ...  0.247998  0.771679  0.909412 -0.689281 -0.327642   \n",
       "\n",
       "        V26       V27       V28  Amount  Class  \n",
       "0 -0.189115  0.133558 -0.021053  149.62      0  \n",
       "1  0.125895 -0.008983  0.014724    2.69      0  \n",
       "2 -0.139097 -0.055353 -0.059752  378.66      0  \n",
       "\n",
       "[3 rows x 31 columns]"
      ]
     },
     "execution_count": 5,
     "metadata": {},
     "output_type": "execute_result"
    }
   ],
   "source": [
    "# PCA를 이용해 차원을 축소했음. 실제 컬럼명은 보안 이슈로 공개하지 않음.\n",
    "# Feature 'Time' seconds elapsed between each transaction and the first transaction. \n",
    "# The feature 'Amount' is the transaction Amount\n",
    "raw_df.head(3)"
   ]
  },
  {
   "cell_type": "code",
   "execution_count": 6,
   "metadata": {},
   "outputs": [
    {
     "data": {
      "text/plain": [
       "Index(['Time', 'V1', 'V2', 'V3', 'V4', 'V5', 'V6', 'V7', 'V8', 'V9', 'V10',\n",
       "       'V11', 'V12', 'V13', 'V14', 'V15', 'V16', 'V17', 'V18', 'V19', 'V20',\n",
       "       'V21', 'V22', 'V23', 'V24', 'V25', 'V26', 'V27', 'V28', 'Amount',\n",
       "       'Class'],\n",
       "      dtype='object')"
      ]
     },
     "execution_count": 6,
     "metadata": {},
     "output_type": "execute_result"
    }
   ],
   "source": [
    "# 피처(feature) 목록\n",
    "raw_df.columns\n",
    "# Class : 레이블"
   ]
  },
  {
   "cell_type": "code",
   "execution_count": 7,
   "metadata": {},
   "outputs": [
    {
     "data": {
      "text/plain": [
       "Class\n",
       "0    284315\n",
       "1       492\n",
       "dtype: int64"
      ]
     },
     "execution_count": 7,
     "metadata": {},
     "output_type": "execute_result"
    }
   ],
   "source": [
    "# Imbalanced data\n",
    "raw_df.value_counts('Class')\n",
    "# 정상 데이터(0)이 사기 데이터(1)보다 훨씬 많다. -> 모델의 성능이 현저히 떨어짐."
   ]
  },
  {
   "cell_type": "markdown",
   "metadata": {},
   "source": [
    "### 먼저 아무런 데이터 처리 없이 로지스틱 회귀 모델 만들어보기"
   ]
  },
  {
   "cell_type": "code",
   "execution_count": 8,
   "metadata": {},
   "outputs": [],
   "source": [
    "# 피처 데이터와 레이블 데이터로 쪼개기\n",
    "duplicated_df = raw_df.copy()\n",
    "\n",
    "# feature data, 레이블을 제거\n",
    "X = duplicated_df.drop('Class', axis=1)\n",
    "\n",
    "# label\n",
    "y = duplicated_df['Class']"
   ]
  },
  {
   "cell_type": "code",
   "execution_count": 9,
   "metadata": {},
   "outputs": [],
   "source": [
    "# 학습 데이터와 테스트 데이터로 분할, stratify로 학습 데이터와 테스트 데이터의 레이블 비율을 일정하게 유지\n",
    "from sklearn.model_selection import train_test_split\n",
    "\n",
    "X_train, X_test, y_train, y_test = train_test_split(X, y, test_size=0.2, stratify=y)"
   ]
  },
  {
   "cell_type": "code",
   "execution_count": 10,
   "metadata": {},
   "outputs": [
    {
     "name": "stdout",
     "output_type": "stream",
     "text": [
      "학습 데이터 레이블 비율\n",
      "0    0.998271\n",
      "1    0.001729\n",
      "Name: Class, dtype: float64\n",
      "테스트 데이터 레이블 비율\n",
      "0    0.99828\n",
      "1    0.00172\n",
      "Name: Class, dtype: float64\n"
     ]
    }
   ],
   "source": [
    "# 정말 학습데이터와 테스트 데이터의 레이블 비율이 같은지 확인\n",
    "print('학습 데이터 레이블 비율')\n",
    "print(y_train.value_counts()/y_train.shape[0])\n",
    "print('테스트 데이터 레이블 비율')\n",
    "print(y_test.value_counts()/y_test.shape[0])"
   ]
  },
  {
   "cell_type": "code",
   "execution_count": 11,
   "metadata": {},
   "outputs": [
    {
     "data": {
      "text/plain": [
       "LogisticRegression(max_iter=5000)"
      ]
     },
     "execution_count": 11,
     "metadata": {},
     "output_type": "execute_result"
    }
   ],
   "source": [
    "# 대표적인 분류 모델 중 하나인 로지스틱 회귀 모델로 학습\n",
    "# 로지스틱 회귀는 이름은 회귀(regression)이지만 분류(classification)에 사용됨.\n",
    "from sklearn.linear_model import LogisticRegression\n",
    "\n",
    "log_reg = LogisticRegression(max_iter=5000)\n",
    "log_reg.fit(X_train, y_train)"
   ]
  },
  {
   "cell_type": "code",
   "execution_count": 12,
   "metadata": {},
   "outputs": [
    {
     "data": {
      "text/plain": [
       "0.9990519995786665"
      ]
     },
     "execution_count": 12,
     "metadata": {},
     "output_type": "execute_result"
    }
   ],
   "source": [
    "# 정확도(accuracy) 측정\n",
    "from sklearn.metrics import accuracy_score\n",
    "\n",
    "# 테스트 피처 데이터로 예측\n",
    "y_pred = log_reg.predict(X_test)\n",
    "\n",
    "# 정확도(accuracy)\n",
    "accuracy_score(y_test, y_pred)"
   ]
  },
  {
   "cell_type": "markdown",
   "metadata": {},
   "source": [
    "### 아무런 데이터 전처리도 없이 정확도가 99%?? 벌써 운영에 배포할 수 있는 모델을 완성한 것인가?\n",
    "### 이진 분류(binary classification)에서 정확도(accuracy)는 믿을만한 지표가 아니다!!\n",
    "##### 예를 들어 0~9까지 균등하게 들어 있는 데이터에서 값이 5면 1이고 값이 5가 아니면 0으로(즉, 0~4, 6~9) 이진 분류를 할 때\n",
    "##### 무조건 레이블이 9이라고 예측한다면 테스트 데이터에서 5가 1일 확률은 10% 뿐이므로 정확도는 무조건 90%은 확보된다..."
   ]
  },
  {
   "cell_type": "code",
   "execution_count": 13,
   "metadata": {},
   "outputs": [
    {
     "data": {
      "text/plain": [
       "array([[56850,    14],\n",
       "       [   40,    58]])"
      ]
     },
     "execution_count": 13,
     "metadata": {},
     "output_type": "execute_result"
    }
   ],
   "source": [
    "# 이진 분류의 성능을 측정할 때는 오차 행렬(Confusion Matrix)을 이용\n",
    "#                    prediction(예측)\n",
    "#          |      |  Neg  |  Pos\n",
    "#           -----------------------   \n",
    "#          |  Neg |  TN   |   FP\n",
    "# real(실제)| ----------------------\n",
    "#          |  Pos |  FN   |   TP\n",
    "\n",
    "# 정확도(accuracy)\n",
    "# (TN + TP) / (TN + FP + FN + TP)\n",
    "# ex) 위 예시에서 테스트 데이터가 100개, 무조건 9라고 예측하면 FP -> 0, TP -> 0, TN = 90, FN = 10 이므로 90 / 90 + 10 \n",
    "# 정밀도(precision)\n",
    "# TP / (FP + TP)\n",
    "# 재현율(recall)\n",
    "# TP / (FN + TP)\n",
    "# ex) 사기 방지 혹은 침입자 분류의 경우 재현율을 높여야 모든 사기 케이스와 모든 침입자를 찾아낼 수 있다. \n",
    "# 물론 진짜 사기가 아닌 케이스나 진짜 침입자가 아닌 경우는 많아질 것이지만...(정밀도는 낮아짐.)\n",
    "\n",
    "from sklearn.metrics import confusion_matrix\n",
    "\n",
    "confusion_matrix(y_test, y_pred)"
   ]
  },
  {
   "cell_type": "code",
   "execution_count": 14,
   "metadata": {},
   "outputs": [
    {
     "name": "stdout",
     "output_type": "stream",
     "text": [
      "정밀도(precision) : 0.77\n",
      "재현율(recall) : 0.56\n"
     ]
    }
   ],
   "source": [
    "precision = 55 / (16 + 55)\n",
    "print(f'정밀도(precision) : {precision:.2f}')\n",
    "recall = 55 / (43 + 55)\n",
    "print(f'재현율(recall) : {recall:.2f}')"
   ]
  },
  {
   "cell_type": "code",
   "execution_count": 15,
   "metadata": {},
   "outputs": [
    {
     "name": "stdout",
     "output_type": "stream",
     "text": [
      "정밀도(precision) : 0.81\n",
      "재현율(recall) : 0.59\n"
     ]
    }
   ],
   "source": [
    "# 정밀도(precision)와 재현율(recall) 측정\n",
    "from sklearn.metrics import precision_score, recall_score\n",
    "\n",
    "print(f'정밀도(precision) : {precision_score(y_test, y_pred):.2f}')\n",
    "print(f'재현율(recall) : {recall_score(y_test, y_pred):.2f}')"
   ]
  },
  {
   "cell_type": "markdown",
   "metadata": {},
   "source": [
    "### 우리가 가장 주의 깊게 살펴봐야 할 재현율(recall)이 56%이므로 매우 낮다!!!\n",
    "### 재현율을 높일 수 있는 방법이 없을까?"
   ]
  },
  {
   "cell_type": "code",
   "execution_count": 16,
   "metadata": {},
   "outputs": [],
   "source": [
    "# 재현율을 높여보자!\n",
    "thresholds = [threshold for threshold in range(-10, 10, 2)]\n",
    "y_dec_func = log_reg.decision_function(X_test)\n",
    "y_preds = [(y_dec_func > threshold).astype(int) for threshold in thresholds]"
   ]
  },
  {
   "cell_type": "code",
   "execution_count": 17,
   "metadata": {},
   "outputs": [
    {
     "name": "stdout",
     "output_type": "stream",
     "text": [
      "임곗값: -10\n",
      "정밀도(precision) : 0.00\n",
      "재현율(recall) : 0.96\n",
      "임곗값: -8\n",
      "정밀도(precision) : 0.01\n",
      "재현율(recall) : 0.90\n",
      "임곗값: -6\n",
      "정밀도(precision) : 0.02\n",
      "재현율(recall) : 0.83\n",
      "임곗값: -4\n",
      "정밀도(precision) : 0.13\n",
      "재현율(recall) : 0.77\n",
      "임곗값: -2\n",
      "정밀도(precision) : 0.52\n",
      "재현율(recall) : 0.67\n",
      "임곗값: 0\n",
      "정밀도(precision) : 0.81\n",
      "재현율(recall) : 0.59\n",
      "임곗값: 2\n",
      "정밀도(precision) : 0.85\n",
      "재현율(recall) : 0.46\n",
      "임곗값: 4\n",
      "정밀도(precision) : 0.84\n",
      "재현율(recall) : 0.38\n",
      "임곗값: 6\n",
      "정밀도(precision) : 0.83\n",
      "재현율(recall) : 0.31\n",
      "임곗값: 8\n",
      "정밀도(precision) : 0.82\n",
      "재현율(recall) : 0.23\n"
     ]
    }
   ],
   "source": [
    "for idx, threshold in enumerate(thresholds):\n",
    "    print(f'임곗값: {threshold}')\n",
    "    print(f'정밀도(precision) : {precision_score(y_test, y_preds[idx]):.2f}')\n",
    "    print(f'재현율(recall) : {recall_score(y_test, y_preds[idx]):.2f}')\n",
    "\n",
    "# 임곗값이 음수이면 재현율 커지고 정밀도 낮아짐\n",
    "# 임곗값이 0이면 predict() 호출을 통해 예측한 값\n",
    "# 임곗값이 양수이면 재현율 작아지고 정밀도 커짐"
   ]
  },
  {
   "cell_type": "markdown",
   "metadata": {},
   "source": [
    "### 정밀도와 재현율을 트레이드 오프 관계\n",
    "### 재현율을 높이기 위해 무리하게 임곗값을 내리면 안된다!"
   ]
  },
  {
   "cell_type": "code",
   "execution_count": 18,
   "metadata": {},
   "outputs": [],
   "source": [
    "#정밀도-재현율 트레이드 오프 시각화\n",
    "from sklearn.model_selection import cross_val_predict\n",
    "\n",
    "y_dec_funcs = cross_val_predict(log_reg, X_test, y_test, method='decision_function')"
   ]
  },
  {
   "cell_type": "code",
   "execution_count": 19,
   "metadata": {},
   "outputs": [],
   "source": [
    "from sklearn.metrics import precision_recall_curve\n",
    "\n",
    "precisions, recalls, thresholds = precision_recall_curve(y_test, y_dec_funcs)"
   ]
  },
  {
   "cell_type": "code",
   "execution_count": 20,
   "metadata": {},
   "outputs": [
    {
     "data": {
      "image/png": "[encoded data removed]",
      "text/plain": [
       "<Figure size 640x480 with 1 Axes>"
      ]
     },
     "metadata": {},
     "output_type": "display_data"
    }
   ],
   "source": [
    "plt.plot(thresholds, precisions[:-1], 'r--', label='precision')\n",
    "plt.plot(thresholds, recalls[:-1], 'g', label='recall')\n",
    "plt.legend()\n",
    "plt.show()"
   ]
  },
  {
   "cell_type": "markdown",
   "metadata": {},
   "source": [
    "### 정밀도와 재현율을 모두 고려한 점수 : F1 \n",
    "##### F1 점수 : 정밀도와 재현율의 Harmonic mean\n",
    "### F1 = 2 / ((1/precision) + (1/recall)) = TP / (TP + ((FN + FP) / 2))"
   ]
  },
  {
   "cell_type": "code",
   "execution_count": 21,
   "metadata": {},
   "outputs": [
    {
     "data": {
      "text/plain": [
       "0.6823529411764706"
      ]
     },
     "execution_count": 21,
     "metadata": {},
     "output_type": "execute_result"
    }
   ],
   "source": [
    "from sklearn.metrics import f1_score\n",
    "\n",
    "f1_score(y_test, y_pred)"
   ]
  },
  {
   "cell_type": "code",
   "execution_count": 22,
   "metadata": {},
   "outputs": [
    {
     "name": "stdout",
     "output_type": "stream",
     "text": [
      "임곗값: -10\n",
      "F1(F1 점수) : 0.01\n",
      "임곗값: -8\n",
      "F1(F1 점수) : 0.01\n",
      "임곗값: -6\n",
      "F1(F1 점수) : 0.04\n",
      "임곗값: -4\n",
      "F1(F1 점수) : 0.23\n",
      "임곗값: -2\n",
      "F1(F1 점수) : 0.59\n",
      "임곗값: 0\n",
      "F1(F1 점수) : 0.68\n",
      "임곗값: 2\n",
      "F1(F1 점수) : 0.60\n",
      "임곗값: 4\n",
      "F1(F1 점수) : 0.52\n",
      "임곗값: 6\n",
      "F1(F1 점수) : 0.45\n",
      "임곗값: 8\n",
      "F1(F1 점수) : 0.37\n"
     ]
    }
   ],
   "source": [
    "ths = [threshold for threshold in range(-10, 10, 2)]\n",
    "for idx, threshold in enumerate(ths):\n",
    "    print(f'임곗값: {threshold}')\n",
    "    print(f'F1(F1 점수) : {f1_score(y_test, y_preds[idx]):.2f}')"
   ]
  }
 ],
 "metadata": {
  "kernelspec": {
   "display_name": "base",
   "language": "python",
   "name": "python3"
  },
  "language_info": {
   "codemirror_mode": {
    "name": "ipython",
    "version": 3
   },
   "file_extension": ".py",
   "mimetype": "text/x-python",
   "name": "python",
   "nbconvert_exporter": "python",
   "pygments_lexer": "ipython3",
   "version": "3.10.9"
  },
  "orig_nbformat": 4
 },
 "nbformat": 4,
 "nbformat_minor": 2
}
